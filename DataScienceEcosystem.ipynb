{
 "cells": [
  {
   "cell_type": "markdown",
   "id": "a3d4e2ce-2905-4253-95ef-15352f62d85b",
   "metadata": {},
   "source": [
    "In this notebook, Data Science Tools and Ecosystem are summarized."
   ]
  },
  {
   "cell_type": "markdown",
   "id": "974e7ca7-bf22-498e-aa69-e58571bcc748",
   "metadata": {
    "tags": []
   },
   "source": [
    "**Objectives:**\n",
    "- List popular languages for Data Science\n",
    "- List popular libraries for Data Science\n",
    "- Creating tables in markdown\n",
    "- Perform arithmetic using python\n",
    "- Creating new code cells"
   ]
  },
  {
   "cell_type": "markdown",
   "id": "719ba220-dea1-42ce-b1a1-5f842fe002f9",
   "metadata": {},
   "source": [
    "Some of the popular languages that Data Scientists use are:\n",
    "1. Python\n",
    "2. R\n",
    "3. SQL"
   ]
  },
  {
   "cell_type": "markdown",
   "id": "ec1342ea-95f7-41cc-b09a-35fecdf74c21",
   "metadata": {},
   "source": [
    "Some of the commonly used libraries used by Data Scientists include:\n",
    "1. NumPY\n",
    "2. Pandas\n",
    "3. Scikit-learn"
   ]
  },
  {
   "cell_type": "markdown",
   "id": "55c777ff-7eab-437d-ac9f-908dda31761b",
   "metadata": {},
   "source": [
    "Data Science Tools|\n",
    "----|\n",
    "Jupyter Notebooks|\n",
    "RStudio|\n",
    "Python|\n"
   ]
  },
  {
   "cell_type": "markdown",
   "id": "9139bc47-a3fc-4230-b643-4d7081ff7b06",
   "metadata": {
    "tags": []
   },
   "source": [
    "### Below are a few examples of evaluating arithmetic expressions in Python."
   ]
  },
  {
   "cell_type": "code",
   "execution_count": 2,
   "id": "386a3d38-7ab9-49d8-b6f6-cd251a61fdb5",
   "metadata": {
    "tags": []
   },
   "outputs": [
    {
     "data": {
      "text/plain": [
       "17"
      ]
     },
     "execution_count": 2,
     "metadata": {},
     "output_type": "execute_result"
    }
   ],
   "source": [
    "#This a simple arithmetic expression to mutiply then add integers\n",
    "(3*4)+5"
   ]
  },
  {
   "cell_type": "code",
   "execution_count": 3,
   "id": "782b0696-0502-46e8-84e1-b731b776f4e4",
   "metadata": {
    "tags": []
   },
   "outputs": [
    {
     "data": {
      "text/plain": [
       "3.3333333333333335"
      ]
     },
     "execution_count": 3,
     "metadata": {},
     "output_type": "execute_result"
    }
   ],
   "source": [
    "#This will convert 200 minutes to hours by diving by 60\n",
    "200/60"
   ]
  },
  {
   "cell_type": "markdown",
   "id": "ea344a72-4842-4cfa-b266-071ec9ea7e92",
   "metadata": {},
   "source": [
    "## Author\n",
    "Robert Wilcox"
   ]
  },
  {
   "cell_type": "code",
   "execution_count": null,
   "id": "2a9ef31e-5cfe-47f1-a4c9-ed24b9efd3d3",
   "metadata": {},
   "outputs": [],
   "source": []
  }
 ],
 "metadata": {
  "kernelspec": {
   "display_name": "Python 3 (ipykernel)",
   "language": "python",
   "name": "python3"
  },
  "language_info": {
   "codemirror_mode": {
    "name": "ipython",
    "version": 3
   },
   "file_extension": ".py",
   "mimetype": "text/x-python",
   "name": "python",
   "nbconvert_exporter": "python",
   "pygments_lexer": "ipython3",
   "version": "3.8.16"
  }
 },
 "nbformat": 4,
 "nbformat_minor": 5
}
